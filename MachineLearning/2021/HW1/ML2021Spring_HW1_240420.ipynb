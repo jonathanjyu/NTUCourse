{
 "cells": [
  {
   "cell_type": "markdown",
   "metadata": {
    "id": "mz0_QVkxCrX3"
   },
   "source": [
    "# **Homework 1: COVID-19 Cases Prediction (Regression)**"
   ]
  },
  {
   "cell_type": "markdown",
   "metadata": {},
   "source": [
    "### baseline\n",
    "#### public\n",
    "##### strong baseline: 0.88017\n",
    "##### medium baseline: 1.28359\n",
    "##### simple baseline: 2.03004\n",
    "#### private\n",
    "##### strong baseline: 0.89266\n",
    "##### medium baseline: 1.36937\n",
    "##### simple baseline: 2.04826"
   ]
  },
  {
   "cell_type": "markdown",
   "metadata": {
    "id": "ZeZnPAiwDRWG"
   },
   "source": [
    "Author: Heng-Jui Chang\n",
    "\n",
    "Slides: https://github.com/ga642381/ML2021-Spring/blob/main/HW01/HW01.pdf  \n",
    "Videos (Mandarin): https://cool.ntu.edu.tw/courses/4793/modules/items/172854  \n",
    "https://cool.ntu.edu.tw/courses/4793/modules/items/172853  \n",
    "Video (English): https://cool.ntu.edu.tw/courses/4793/modules/items/176529\n",
    "\n",
    "\n",
    "Objectives:\n",
    "* Solve a regression problem with deep neural networks (DNN).\n",
    "* Understand basic DNN training tips.\n",
    "* Get familiar with PyTorch.\n",
    "\n",
    "If any questions, please contact the TAs via TA hours, NTU COOL, or email.\n"
   ]
  },
  {
   "cell_type": "markdown",
   "metadata": {
    "id": "Jx3x1nDkG-Uy"
   },
   "source": [
    "# **Download Data**\n",
    "\n",
    "\n",
    "If the Google drive links are dead, you can download data from [kaggle](https://www.kaggle.com/c/ml2021spring-hw1/data), and upload data manually to the workspace."
   ]
  },
  {
   "cell_type": "code",
   "execution_count": 1,
   "metadata": {
    "colab": {
     "base_uri": "https://localhost:8080/"
    },
    "id": "tMj55YDKG6ch",
    "outputId": "fc40ecc9-4756-48b1-d5c6-c169a8b453b2"
   },
   "outputs": [
    {
     "name": "stderr",
     "output_type": "stream",
     "text": [
      "'gdown' 不是內部或外部命令、可執行的程式或批次檔。\n",
      "'gdown' 不是內部或外部命令、可執行的程式或批次檔。\n"
     ]
    }
   ],
   "source": [
    "tr_path = 'covid.train.csv'  # path to training data\n",
    "tt_path = 'covid.test.shuffle.csv'   # path to testing data\n",
    "\n",
    "!gdown --id '19CCyCgJrUxtvgZF53vnctJiOJ23T5mqF' --output covid.train.csv\n",
    "!gdown --id '1CE240jLm2npU-tdz81-oVKEF3T2yfT1O' --output covid.test.csv"
   ]
  },
  {
   "cell_type": "markdown",
   "metadata": {
    "id": "wS_4-77xHk44"
   },
   "source": [
    "# **Import Some Packages**"
   ]
  },
  {
   "cell_type": "code",
   "execution_count": 46,
   "metadata": {
    "id": "k-onQd4JNA5H"
   },
   "outputs": [],
   "source": [
    "# PyTorch\n",
    "import torch\n",
    "import torch.nn as nn\n",
    "from torch.utils.data import Dataset, DataLoader\n",
    "\n",
    "# For data preprocess\n",
    "import numpy as np\n",
    "import csv\n",
    "import os\n",
    "\n",
    "# For plotting\n",
    "import matplotlib.pyplot as plt\n",
    "from matplotlib.pyplot import figure\n",
    "\n",
    "myseed = 42069  # set a random seed for reproducibility\n",
    "torch.backends.cudnn.deterministic = True\n",
    "torch.backends.cudnn.benchmark = False\n",
    "np.random.seed(myseed)\n",
    "torch.manual_seed(myseed)\n",
    "if torch.cuda.is_available():\n",
    "    torch.cuda.manual_seed_all(myseed)\n",
    "    \n",
    "##prevent kernel died when plot\n",
    "os.environ['KMP_DUPLICATE_LIB_OK'] = 'True'"
   ]
  },
  {
   "cell_type": "markdown",
   "metadata": {
    "id": "BtE3b6JEH7rw"
   },
   "source": [
    "# **Some Utilities**\n",
    "\n",
    "You do not need to modify this part."
   ]
  },
  {
   "cell_type": "code",
   "execution_count": 47,
   "metadata": {
    "id": "FWMT3uf1NGQp"
   },
   "outputs": [],
   "source": [
    "def get_device():\n",
    "    ''' Get device (if GPU is available, use GPU) '''\n",
    "    return 'cuda' if torch.cuda.is_available() else 'cpu'\n",
    "\n",
    "def plot_learning_curve(loss_record, title=''):\n",
    "    ''' Plot learning curve of your DNN (train & dev loss) '''\n",
    "    total_steps = len(loss_record['train'])\n",
    "    x_1 = range(total_steps)\n",
    "    x_2 = x_1[::len(loss_record['train']) // len(loss_record['dev'])]\n",
    "    figure(figsize=(6, 4))\n",
    "    plt.plot(x_1, loss_record['train'], c='tab:red', label='train')\n",
    "    plt.plot(x_2, loss_record['dev'], c='tab:cyan', label='dev')\n",
    "    plt.ylim(0.0, 5.)\n",
    "    plt.xlabel('Training steps')\n",
    "    plt.ylabel('MSE loss')\n",
    "    plt.title('Learning curve of {}'.format(title))\n",
    "    plt.legend()\n",
    "    plt.show()\n",
    "\n",
    "\n",
    "def plot_pred(dv_set, model, device, lim=35., preds=None, targets=None):\n",
    "    ''' Plot prediction of your DNN '''\n",
    "    if preds is None or targets is None:\n",
    "        model.eval()\n",
    "        preds, targets = [], []\n",
    "        for x, y in dv_set:\n",
    "            x, y = x.to(device), y.to(device)\n",
    "            with torch.no_grad():\n",
    "                pred = model(x)\n",
    "                preds.append(pred.detach().cpu())\n",
    "                targets.append(y.detach().cpu())\n",
    "        preds = torch.cat(preds, dim=0).numpy()\n",
    "        targets = torch.cat(targets, dim=0).numpy()\n",
    "\n",
    "    figure(figsize=(5, 5))\n",
    "    plt.scatter(targets, preds, c='r', alpha=0.5)\n",
    "    plt.plot([-0.2, lim], [-0.2, lim], c='b')\n",
    "    plt.xlim(-0.2, lim)\n",
    "    plt.ylim(-0.2, lim)\n",
    "    plt.xlabel('ground truth value')\n",
    "    plt.ylabel('predicted value')\n",
    "    plt.title('Ground Truth v.s. Prediction')\n",
    "    plt.show()"
   ]
  },
  {
   "cell_type": "markdown",
   "metadata": {
    "id": "39U_XFX6KOoj"
   },
   "source": [
    "# **Preprocess**\n",
    "\n",
    "We have three kinds of datasets:\n",
    "* `train`: for training\n",
    "* `dev`: for validation\n",
    "* `test`: for testing (w/o target value)"
   ]
  },
  {
   "cell_type": "markdown",
   "metadata": {
    "id": "TQ-MdwpLL7Dt"
   },
   "source": [
    "## **Dataset**\n",
    "\n",
    "The `COVID19Dataset` below does:\n",
    "* read `.csv` files\n",
    "* extract features\n",
    "* split `covid.train.csv` into train/dev sets\n",
    "* normalize features\n",
    "\n",
    "Finishing `TODO` below might make you pass medium baseline."
   ]
  },
  {
   "cell_type": "code",
   "execution_count": 93,
   "metadata": {
    "id": "0zlpIp9ANJRU"
   },
   "outputs": [],
   "source": [
    "class COVID19Dataset(Dataset):\n",
    "    ''' Dataset for loading and preprocessing the COVID19 dataset '''\n",
    "    def __init__(self,\n",
    "                 path,\n",
    "                 mode='train',\n",
    "                 target_only=False):\n",
    "        self.mode = mode\n",
    "\n",
    "        # Read data into numpy arrays\n",
    "        with open(path, 'r') as fp:\n",
    "            data = list(csv.reader(fp))\n",
    "            data = np.array(data[1:])[:, 1:].astype(float)\n",
    "\n",
    "        if not target_only:\n",
    "            feats = list(range(93))\n",
    "        else:\n",
    "            # TODO: Using 40 states & 2 tested_positive features (indices = 57 & 75)\n",
    "            feats = list(range(40))\n",
    "            #tmp = [57,75,48, 49, 51, 66, 67, 68, 74, 75, 84, 92]\n",
    "            #tmp = [57,75,48, 49, 51, 66, 67, 68, 74, 75, 84, 92]\n",
    "            #tmp = [44, 47, 48, 49, 50, 51, 57, 64, 65, 66, 67, 68, 74, 75, 82, 83, 84, 85, 86, 92]\n",
    "            feats.append(57)\n",
    "            feats.append(75)\n",
    "            feats = [57,75,44,45,46,47,48,49,50,51,62,63,64,65,66,67,68,69,80,81,82,83,84,85,86,87]\n",
    "            \n",
    "            #test!!!!\n",
    "            #feats = [40, 41, 42, 43, 57, 58, 59, 60, 61, 75, 76, 77, 78, 79]\n",
    "            #feats.extend(tmp)\n",
    "            #print(data[:, feats])\n",
    "            pass\n",
    "\n",
    "        if mode == 'test':\n",
    "            # Testing data\n",
    "            # data: 893 x 93 (40 states + day 1 (18) + day 2 (18) + day 3 (17))\n",
    "            data = data[:, feats]\n",
    "            self.data = torch.FloatTensor(data)\n",
    "        else:\n",
    "            # Training data (train/dev sets)\n",
    "            # data: 2700 x 94 (40 states + day 1 (18) + day 2 (18) + day 3 (18))\n",
    "            target = data[:, -1]\n",
    "            data = data[:, feats]\n",
    "\n",
    "            # Splitting training data into train & dev sets\n",
    "            if mode == 'train':\n",
    "                indices = [i for i in range(len(data)) if i % 10 != 0]\n",
    "            elif mode == 'dev':\n",
    "                indices = [i for i in range(len(data)) if i % 10 == 0]\n",
    "\n",
    "            # Convert data into PyTorch tensors\n",
    "            self.data = torch.FloatTensor(data[indices])\n",
    "            self.target = torch.FloatTensor(target[indices])\n",
    "\n",
    "        # Normalize features (you may remove this part to see what will happen)\n",
    "        self.data[:, 40:] = \\\n",
    "            (self.data[:, 40:] - self.data[:, 40:].mean(dim=0, keepdim=True)) \\\n",
    "            / self.data[:, 40:].std(dim=0, keepdim=True)\n",
    "\n",
    "        self.dim = self.data.shape[1]\n",
    "\n",
    "        print('Finished reading the {} set of COVID19 Dataset ({} samples found, each dim = {})'\n",
    "              .format(mode, len(self.data), self.dim))\n",
    "\n",
    "    def __getitem__(self, index):\n",
    "        # Returns one sample at a time\n",
    "        if self.mode in ['train', 'dev']:\n",
    "            # For training\n",
    "            return self.data[index], self.target[index]\n",
    "        else:\n",
    "            # For testing (no target)\n",
    "            return self.data[index]\n",
    "\n",
    "    def __len__(self):\n",
    "        # Returns the size of the dataset\n",
    "        return len(self.data)"
   ]
  },
  {
   "cell_type": "markdown",
   "metadata": {
    "id": "AlhTlkE7MDo3"
   },
   "source": [
    "## **DataLoader**\n",
    "\n",
    "A `DataLoader` loads data from a given `Dataset` into batches.\n"
   ]
  },
  {
   "cell_type": "code",
   "execution_count": 94,
   "metadata": {
    "id": "hlhLk5t6MBX3"
   },
   "outputs": [],
   "source": [
    "def prep_dataloader(path, mode, batch_size, n_jobs=0, target_only=False):\n",
    "    ''' Generates a dataset, then is put into a dataloader. '''\n",
    "    dataset = COVID19Dataset(path, mode=mode, target_only=target_only)  # Construct dataset\n",
    "    dataloader = DataLoader(\n",
    "        dataset, batch_size,\n",
    "        shuffle=(mode == 'train'), drop_last=False,\n",
    "        num_workers=n_jobs, pin_memory=True)                            # Construct dataloader\n",
    "    return dataloader"
   ]
  },
  {
   "cell_type": "markdown",
   "metadata": {
    "id": "SGuycwR0MeQB"
   },
   "source": [
    "# **Deep Neural Network**\n",
    "\n",
    "`NeuralNet` is an `nn.Module` designed for regression.\n",
    "The DNN consists of 2 fully-connected layers with ReLU activation.\n",
    "This module also included a function `cal_loss` for calculating loss.\n"
   ]
  },
  {
   "cell_type": "code",
   "execution_count": 112,
   "metadata": {
    "id": "49-uXYovOAI0"
   },
   "outputs": [],
   "source": [
    "class NeuralNet(nn.Module):\n",
    "    ''' A simple fully-connected deep neural network '''\n",
    "    def __init__(self, input_dim):\n",
    "        super(NeuralNet, self).__init__()\n",
    "\n",
    "        # Define your neural network here\n",
    "        # TODO: How to modify this model to achieve better performance?\n",
    "        self.net = nn.Sequential(\n",
    "            nn.Linear(input_dim, 64),\n",
    "            nn.ReLU(),\n",
    "            #nn.LeakyReLU(),\n",
    "            #nn.Dropout(p=0.1),\n",
    "            \n",
    "            nn.Linear(64,16),\n",
    "            nn.ReLU(),\n",
    "            #nn.LeakyReLU(),\n",
    "            #nn.Dropout(p=0.1),\n",
    "            \n",
    "            #nn.Linear(32,16),\n",
    "            #nn.ReLU(),\n",
    "            #nn.LeakyReLU(),\n",
    "            #nn.Dropout(p=0.1),\n",
    "            \n",
    "            nn.Linear(16,8),\n",
    "            nn.ReLU(),\n",
    "            nn.Linear(8,4),\n",
    "            nn.ReLU(),\n",
    "            nn.Linear(4, 1)\n",
    "            \n",
    "        )\n",
    "\n",
    "        # Mean squared error loss\n",
    "        self.criterion = nn.MSELoss(reduction='mean')\n",
    "\n",
    "    def forward(self, x):\n",
    "        ''' Given input of size (batch_size x input_dim), compute output of the network '''\n",
    "        return self.net(x).squeeze(1)\n",
    "\n",
    "    def cal_loss(self, pred, target):\n",
    "        ''' Calculate loss '''\n",
    "        # TODO: you may implement L1/L2 regularization here\n",
    "        loss = self.criterion(pred, target)\n",
    "        delta = np.random.normal(loc=0,scale = 0.000001)\n",
    "        # l1 regularization\n",
    "        l1_lambda = 0.00001#+delta\n",
    "        l1_nor = sum(abs(p).sum() for p in model.parameters())\n",
    "        l1_nor = l1_nor*l1_lambda\n",
    "        \n",
    "        # l2 regularization\n",
    "        l2_lambda = 0.000001+delta\n",
    "        l2_nor = sum((p**2).sum() for p in model.parameters())\n",
    "        l2_nor = l2_nor*l2_lambda\n",
    "        \n",
    "        ### test!!!\n",
    "        \n",
    "        #delta = np.random.normal(loc=0,scale = 0.000001)\n",
    "        #l1_lambda = l1_lambda + delta\n",
    "        #loss = self.criterion(pred, target) \n",
    "        \n",
    "        # L1 regularization\n",
    "        #l1_reg = torch.tensor(0.).to(device)\n",
    "        #for param in model.parameters():\n",
    "        #    l1_reg += torch.sum(torch.abs(param))\n",
    "        #loss += l1_lambda * l1_reg\n",
    "        \n",
    "        \n",
    "        #return self.criterion(pred, target)\n",
    "        return loss+l1_nor"
   ]
  },
  {
   "cell_type": "markdown",
   "metadata": {
    "id": "DvFWVjZ5Nvga"
   },
   "source": [
    "# **Train/Dev/Test**"
   ]
  },
  {
   "cell_type": "markdown",
   "metadata": {
    "id": "MAM8QecJOyqn"
   },
   "source": [
    "## **Training**"
   ]
  },
  {
   "cell_type": "code",
   "execution_count": 113,
   "metadata": {
    "id": "lOqcmYzMO7jB"
   },
   "outputs": [],
   "source": [
    "def train(tr_set, dv_set, model, config, device):\n",
    "    ''' DNN training '''\n",
    "\n",
    "    n_epochs = config['n_epochs']  # Maximum number of epochs\n",
    "\n",
    "    # Setup optimizer\n",
    "    optimizer = getattr(torch.optim, config['optimizer'])(\n",
    "        model.parameters(), **config['optim_hparas'])\n",
    "\n",
    "    min_mse = 1000.\n",
    "    loss_record = {'train': [], 'dev': []}      # for recording training loss\n",
    "    early_stop_cnt = 0\n",
    "    epoch = 0\n",
    "    while epoch < n_epochs:\n",
    "        model.train()                           # set model to training mode\n",
    "        for x, y in tr_set:                     # iterate through the dataloader\n",
    "            optimizer.zero_grad()               # set gradient to zero\n",
    "            x, y = x.to(device), y.to(device)   # move data to device (cpu/cuda)\n",
    "            pred = model(x)                     # forward pass (compute output)\n",
    "            mse_loss = model.cal_loss(pred, y)  # compute loss\n",
    "            mse_loss.backward()                 # compute gradient (backpropagation)\n",
    "            optimizer.step()                    # update model with optimizer\n",
    "            loss_record['train'].append(mse_loss.detach().cpu().item())\n",
    "\n",
    "        # After each epoch, test your model on the validation (development) set.\n",
    "        dev_mse = dev(dv_set, model, device)\n",
    "        if dev_mse < min_mse:\n",
    "            # Save model if your model improved\n",
    "            min_mse = dev_mse\n",
    "            print('Saving model (epoch = {:4d}, loss = {:.4f})'\n",
    "                .format(epoch + 1, min_mse))\n",
    "            torch.save(model.state_dict(), config['save_path'])  # Save model to specified path\n",
    "            early_stop_cnt = 0\n",
    "        else:\n",
    "            early_stop_cnt += 1\n",
    "\n",
    "        epoch += 1\n",
    "        loss_record['dev'].append(dev_mse)\n",
    "        if early_stop_cnt > config['early_stop']:\n",
    "            # Stop training if your model stops improving for \"config['early_stop']\" epochs.\n",
    "            break\n",
    "\n",
    "    print('Finished training after {} epochs'.format(epoch))\n",
    "    return min_mse, loss_record"
   ]
  },
  {
   "cell_type": "markdown",
   "metadata": {
    "id": "0hSd4Bn3O2PL"
   },
   "source": [
    "## **Validation**"
   ]
  },
  {
   "cell_type": "code",
   "execution_count": 114,
   "metadata": {
    "id": "yrxrD3YsN3U2"
   },
   "outputs": [],
   "source": [
    "def dev(dv_set, model, device):\n",
    "    model.eval()                                # set model to evalutation mode\n",
    "    total_loss = 0\n",
    "    for x, y in dv_set:                         # iterate through the dataloader\n",
    "        x, y = x.to(device), y.to(device)       # move data to device (cpu/cuda)\n",
    "        with torch.no_grad():                   # disable gradient calculation\n",
    "            pred = model(x)                     # forward pass (compute output)\n",
    "            mse_loss = model.cal_loss(pred, y)  # compute loss\n",
    "        total_loss += mse_loss.detach().cpu().item() * len(x)  # accumulate loss\n",
    "    total_loss = total_loss / len(dv_set.dataset)              # compute averaged loss\n",
    "\n",
    "    return total_loss"
   ]
  },
  {
   "cell_type": "markdown",
   "metadata": {
    "id": "g0pdrhQAO41L"
   },
   "source": [
    "## **Testing**"
   ]
  },
  {
   "cell_type": "code",
   "execution_count": 115,
   "metadata": {
    "id": "aSBMRFlYN5tB"
   },
   "outputs": [],
   "source": [
    "def test(tt_set, model, device):\n",
    "    model.eval()                                # set model to evalutation mode\n",
    "    preds = []\n",
    "    for x in tt_set:                            # iterate through the dataloader\n",
    "        x = x.to(device)                        # move data to device (cpu/cuda)\n",
    "        with torch.no_grad():                   # disable gradient calculation\n",
    "            pred = model(x)                     # forward pass (compute output)\n",
    "            preds.append(pred.detach().cpu())   # collect prediction\n",
    "    preds = torch.cat(preds, dim=0).numpy()     # concatenate all predictions and convert to a numpy array\n",
    "    return preds"
   ]
  },
  {
   "cell_type": "markdown",
   "metadata": {
    "id": "SvckkF5dvf0j"
   },
   "source": [
    "# **Setup Hyper-parameters**\n",
    "\n",
    "`config` contains hyper-parameters for training and the path to save your model."
   ]
  },
  {
   "cell_type": "code",
   "execution_count": 116,
   "metadata": {
    "id": "NPXpdumwPjE7"
   },
   "outputs": [],
   "source": [
    "device = get_device()                 # get the current available device ('cpu' or 'cuda')\n",
    "os.makedirs('models', exist_ok=True)  # The trained model will be saved to ./models/\n",
    "target_only = True                   # TODO: Using 40 states & 2 tested_positive features\n",
    "\n",
    "# TODO: How to tune these hyper-parameters to improve your model's performance?\n",
    "config = {\n",
    "    'n_epochs': 5000,                # maximum number of epochs #3000,5000,10000,50000\n",
    "    'batch_size': 270,               # mini-batch size for dataloader #135,270,540,1215,2430\n",
    "    'optimizer': 'Adam',              # optimization algorithm (optimizer in torch.optim) #SGD,Adam,RMSprop\n",
    "    'optim_hparas': {                # hyper-parameters for the optimizer (depends on which optimizer you are using)\n",
    "        'lr': 0.0005,                 # learning rate of SGD #0.001\n",
    "        #'momentum': 0.9,              # momentum for SGD\n",
    "        #'weight_decay':0.5\n",
    "    },\n",
    "    'early_stop': 200,               # early stopping epochs (the number epochs since your model's last improvement) #200,\n",
    "    'save_path': 'models/model.pth'  # your model will be saved here\n",
    "}"
   ]
  },
  {
   "cell_type": "markdown",
   "metadata": {
    "id": "6j1eOV3TOH-j"
   },
   "source": [
    "# **Load data and model**"
   ]
  },
  {
   "cell_type": "code",
   "execution_count": 117,
   "metadata": {
    "colab": {
     "base_uri": "https://localhost:8080/"
    },
    "id": "eNrYBMmePLKm",
    "outputId": "fcd4f175-4f7e-4306-f33c-5f8285f11dce"
   },
   "outputs": [
    {
     "name": "stdout",
     "output_type": "stream",
     "text": [
      "Finished reading the train set of COVID19 Dataset (2430 samples found, each dim = 26)\n",
      "Finished reading the dev set of COVID19 Dataset (270 samples found, each dim = 26)\n",
      "Finished reading the test set of COVID19 Dataset (893 samples found, each dim = 26)\n"
     ]
    }
   ],
   "source": [
    "tr_set = prep_dataloader(tr_path, 'train', config['batch_size'], target_only=target_only)\n",
    "dv_set = prep_dataloader(tr_path, 'dev', config['batch_size'], target_only=target_only)\n",
    "tt_set = prep_dataloader(tt_path, 'test', config['batch_size'], target_only=target_only)"
   ]
  },
  {
   "cell_type": "code",
   "execution_count": 118,
   "metadata": {
    "id": "FHylSirLP9oh"
   },
   "outputs": [],
   "source": [
    "model = NeuralNet(tr_set.dataset.dim).to(device)  # Construct model and move to device"
   ]
  },
  {
   "cell_type": "markdown",
   "metadata": {
    "id": "sX2B_zgSOPTJ"
   },
   "source": [
    "# **Start Training!**"
   ]
  },
  {
   "cell_type": "code",
   "execution_count": 119,
   "metadata": {
    "colab": {
     "base_uri": "https://localhost:8080/"
    },
    "id": "GrEbUxazQAAZ",
    "outputId": "f4f3bd74-2d97-4275-b69f-6609976b91f9",
    "scrolled": true
   },
   "outputs": [
    {
     "name": "stdout",
     "output_type": "stream",
     "text": [
      "Saving model (epoch =    1, loss = 339.2116)\n",
      "Saving model (epoch =    2, loss = 339.0609)\n",
      "Saving model (epoch =    3, loss = 338.9101)\n",
      "Saving model (epoch =    4, loss = 338.7597)\n",
      "Saving model (epoch =    5, loss = 338.6090)\n",
      "Saving model (epoch =    6, loss = 338.4586)\n",
      "Saving model (epoch =    7, loss = 338.3086)\n",
      "Saving model (epoch =    8, loss = 338.1579)\n",
      "Saving model (epoch =    9, loss = 338.0076)\n",
      "Saving model (epoch =   10, loss = 337.8574)\n",
      "Saving model (epoch =   11, loss = 337.7071)\n",
      "Saving model (epoch =   12, loss = 337.5572)\n",
      "Saving model (epoch =   13, loss = 337.4070)\n",
      "Saving model (epoch =   14, loss = 337.2568)\n",
      "Saving model (epoch =   15, loss = 337.1067)\n",
      "Saving model (epoch =   16, loss = 336.9571)\n",
      "Saving model (epoch =   17, loss = 336.8075)\n",
      "Saving model (epoch =   18, loss = 336.6577)\n",
      "Saving model (epoch =   19, loss = 336.5086)\n",
      "Saving model (epoch =   20, loss = 336.3590)\n",
      "Saving model (epoch =   21, loss = 336.2093)\n",
      "Saving model (epoch =   22, loss = 336.0599)\n",
      "Saving model (epoch =   23, loss = 335.9099)\n",
      "Saving model (epoch =   24, loss = 335.7603)\n",
      "Saving model (epoch =   25, loss = 335.6114)\n",
      "Saving model (epoch =   26, loss = 335.4621)\n",
      "Saving model (epoch =   27, loss = 335.3131)\n",
      "Saving model (epoch =   28, loss = 335.1642)\n",
      "Saving model (epoch =   29, loss = 335.0152)\n",
      "Saving model (epoch =   30, loss = 334.8659)\n",
      "Saving model (epoch =   31, loss = 334.7172)\n",
      "Saving model (epoch =   32, loss = 334.5683)\n",
      "Saving model (epoch =   33, loss = 334.4195)\n",
      "Saving model (epoch =   34, loss = 334.2710)\n",
      "Saving model (epoch =   35, loss = 334.1225)\n",
      "Saving model (epoch =   36, loss = 333.9735)\n",
      "Saving model (epoch =   37, loss = 333.8251)\n",
      "Saving model (epoch =   38, loss = 333.6763)\n",
      "Saving model (epoch =   39, loss = 333.5283)\n",
      "Saving model (epoch =   40, loss = 333.3800)\n",
      "Saving model (epoch =   41, loss = 333.2314)\n",
      "Saving model (epoch =   42, loss = 333.0829)\n",
      "Saving model (epoch =   43, loss = 332.9351)\n",
      "Saving model (epoch =   44, loss = 332.7868)\n",
      "Saving model (epoch =   45, loss = 332.6390)\n",
      "Saving model (epoch =   46, loss = 332.4910)\n",
      "Saving model (epoch =   47, loss = 332.3427)\n",
      "Saving model (epoch =   48, loss = 332.1953)\n",
      "Saving model (epoch =   49, loss = 332.0473)\n",
      "Saving model (epoch =   50, loss = 331.8994)\n",
      "Saving model (epoch =   51, loss = 331.7512)\n",
      "Saving model (epoch =   52, loss = 331.6042)\n",
      "Saving model (epoch =   53, loss = 331.4566)\n",
      "Saving model (epoch =   54, loss = 331.3088)\n",
      "Saving model (epoch =   55, loss = 331.1610)\n",
      "Saving model (epoch =   56, loss = 330.8781)\n",
      "Saving model (epoch =   57, loss = 327.5316)\n",
      "Saving model (epoch =   58, loss = 297.8858)\n",
      "Saving model (epoch =   59, loss = 173.9227)\n",
      "Saving model (epoch =   60, loss = 74.2180)\n",
      "Saving model (epoch =   61, loss = 60.3221)\n",
      "Saving model (epoch =   63, loss = 58.5676)\n",
      "Saving model (epoch =   64, loss = 57.9594)\n",
      "Saving model (epoch =   65, loss = 56.9237)\n",
      "Saving model (epoch =   66, loss = 55.6921)\n",
      "Saving model (epoch =   67, loss = 55.0173)\n",
      "Saving model (epoch =   68, loss = 54.0455)\n",
      "Saving model (epoch =   69, loss = 53.2116)\n",
      "Saving model (epoch =   70, loss = 52.2566)\n",
      "Saving model (epoch =   71, loss = 51.3634)\n",
      "Saving model (epoch =   72, loss = 50.3775)\n",
      "Saving model (epoch =   73, loss = 49.3505)\n",
      "Saving model (epoch =   74, loss = 48.2160)\n",
      "Saving model (epoch =   75, loss = 47.0306)\n",
      "Saving model (epoch =   76, loss = 45.7777)\n",
      "Saving model (epoch =   77, loss = 44.3685)\n",
      "Saving model (epoch =   78, loss = 42.8428)\n",
      "Saving model (epoch =   79, loss = 41.2292)\n",
      "Saving model (epoch =   80, loss = 39.3787)\n",
      "Saving model (epoch =   81, loss = 37.3843)\n",
      "Saving model (epoch =   82, loss = 35.2103)\n",
      "Saving model (epoch =   83, loss = 32.7836)\n",
      "Saving model (epoch =   84, loss = 30.1754)\n",
      "Saving model (epoch =   85, loss = 27.2452)\n",
      "Saving model (epoch =   86, loss = 24.1887)\n",
      "Saving model (epoch =   87, loss = 20.9719)\n",
      "Saving model (epoch =   88, loss = 17.6767)\n",
      "Saving model (epoch =   89, loss = 14.5711)\n",
      "Saving model (epoch =   90, loss = 11.5512)\n",
      "Saving model (epoch =   91, loss = 8.9560)\n",
      "Saving model (epoch =   92, loss = 6.8308)\n",
      "Saving model (epoch =   93, loss = 5.1337)\n",
      "Saving model (epoch =   94, loss = 3.8931)\n",
      "Saving model (epoch =   95, loss = 2.9843)\n",
      "Saving model (epoch =   96, loss = 2.4247)\n",
      "Saving model (epoch =   97, loss = 2.1009)\n",
      "Saving model (epoch =   98, loss = 1.9410)\n",
      "Saving model (epoch =   99, loss = 1.9145)\n",
      "Saving model (epoch =  100, loss = 1.8622)\n",
      "Saving model (epoch =  101, loss = 1.7645)\n",
      "Saving model (epoch =  102, loss = 1.7438)\n",
      "Saving model (epoch =  105, loss = 1.7094)\n",
      "Saving model (epoch =  106, loss = 1.7064)\n",
      "Saving model (epoch =  107, loss = 1.6653)\n",
      "Saving model (epoch =  108, loss = 1.6603)\n",
      "Saving model (epoch =  110, loss = 1.6276)\n",
      "Saving model (epoch =  111, loss = 1.6135)\n",
      "Saving model (epoch =  112, loss = 1.6035)\n",
      "Saving model (epoch =  113, loss = 1.5970)\n",
      "Saving model (epoch =  115, loss = 1.5961)\n",
      "Saving model (epoch =  116, loss = 1.5637)\n",
      "Saving model (epoch =  117, loss = 1.5628)\n",
      "Saving model (epoch =  118, loss = 1.5381)\n",
      "Saving model (epoch =  121, loss = 1.5327)\n",
      "Saving model (epoch =  122, loss = 1.5272)\n",
      "Saving model (epoch =  123, loss = 1.5107)\n",
      "Saving model (epoch =  126, loss = 1.4688)\n",
      "Saving model (epoch =  129, loss = 1.4624)\n",
      "Saving model (epoch =  131, loss = 1.4551)\n",
      "Saving model (epoch =  132, loss = 1.4332)\n",
      "Saving model (epoch =  133, loss = 1.4215)\n",
      "Saving model (epoch =  134, loss = 1.4156)\n",
      "Saving model (epoch =  136, loss = 1.4067)\n",
      "Saving model (epoch =  137, loss = 1.3991)\n",
      "Saving model (epoch =  138, loss = 1.3938)\n",
      "Saving model (epoch =  139, loss = 1.3896)\n",
      "Saving model (epoch =  140, loss = 1.3851)\n",
      "Saving model (epoch =  144, loss = 1.3849)\n",
      "Saving model (epoch =  146, loss = 1.3788)\n",
      "Saving model (epoch =  149, loss = 1.3544)\n",
      "Saving model (epoch =  152, loss = 1.3380)\n",
      "Saving model (epoch =  156, loss = 1.3360)\n",
      "Saving model (epoch =  157, loss = 1.3244)\n",
      "Saving model (epoch =  160, loss = 1.3167)\n",
      "Saving model (epoch =  170, loss = 1.3048)\n",
      "Saving model (epoch =  171, loss = 1.3019)\n",
      "Saving model (epoch =  172, loss = 1.2953)\n",
      "Saving model (epoch =  173, loss = 1.2953)\n",
      "Saving model (epoch =  174, loss = 1.2903)\n",
      "Saving model (epoch =  176, loss = 1.2894)\n",
      "Saving model (epoch =  177, loss = 1.2865)\n",
      "Saving model (epoch =  179, loss = 1.2864)\n",
      "Saving model (epoch =  181, loss = 1.2847)\n",
      "Saving model (epoch =  183, loss = 1.2837)\n",
      "Saving model (epoch =  185, loss = 1.2768)\n",
      "Saving model (epoch =  201, loss = 1.2749)\n",
      "Saving model (epoch =  202, loss = 1.2627)\n",
      "Saving model (epoch =  205, loss = 1.2604)\n",
      "Saving model (epoch =  208, loss = 1.2572)\n",
      "Saving model (epoch =  221, loss = 1.2536)\n",
      "Saving model (epoch =  227, loss = 1.2515)\n",
      "Saving model (epoch =  229, loss = 1.2477)\n",
      "Saving model (epoch =  230, loss = 1.2463)\n",
      "Saving model (epoch =  232, loss = 1.2445)\n",
      "Saving model (epoch =  235, loss = 1.2412)\n",
      "Saving model (epoch =  239, loss = 1.2402)\n",
      "Saving model (epoch =  247, loss = 1.2343)\n",
      "Saving model (epoch =  255, loss = 1.2321)\n",
      "Saving model (epoch =  257, loss = 1.2292)\n",
      "Saving model (epoch =  261, loss = 1.2269)\n",
      "Saving model (epoch =  265, loss = 1.2239)\n",
      "Saving model (epoch =  272, loss = 1.2234)\n",
      "Saving model (epoch =  273, loss = 1.2209)\n",
      "Saving model (epoch =  280, loss = 1.2206)\n",
      "Saving model (epoch =  282, loss = 1.2159)\n",
      "Saving model (epoch =  283, loss = 1.2157)\n",
      "Saving model (epoch =  285, loss = 1.2145)\n",
      "Saving model (epoch =  291, loss = 1.2109)\n",
      "Saving model (epoch =  303, loss = 1.2054)\n",
      "Saving model (epoch =  322, loss = 1.2051)\n",
      "Saving model (epoch =  324, loss = 1.1979)\n",
      "Saving model (epoch =  327, loss = 1.1941)\n",
      "Saving model (epoch =  332, loss = 1.1898)\n",
      "Saving model (epoch =  341, loss = 1.1871)\n",
      "Saving model (epoch =  342, loss = 1.1864)\n",
      "Saving model (epoch =  346, loss = 1.1842)\n",
      "Saving model (epoch =  350, loss = 1.1806)\n",
      "Saving model (epoch =  354, loss = 1.1804)\n",
      "Saving model (epoch =  360, loss = 1.1778)\n",
      "Saving model (epoch =  361, loss = 1.1769)\n",
      "Saving model (epoch =  363, loss = 1.1743)\n",
      "Saving model (epoch =  369, loss = 1.1714)\n",
      "Saving model (epoch =  370, loss = 1.1702)\n",
      "Saving model (epoch =  374, loss = 1.1682)\n",
      "Saving model (epoch =  380, loss = 1.1660)\n",
      "Saving model (epoch =  381, loss = 1.1657)\n",
      "Saving model (epoch =  392, loss = 1.1595)\n",
      "Saving model (epoch =  397, loss = 1.1587)\n",
      "Saving model (epoch =  398, loss = 1.1581)\n",
      "Saving model (epoch =  399, loss = 1.1560)\n"
     ]
    },
    {
     "name": "stdout",
     "output_type": "stream",
     "text": [
      "Saving model (epoch =  402, loss = 1.1534)\n",
      "Saving model (epoch =  409, loss = 1.1513)\n",
      "Saving model (epoch =  414, loss = 1.1469)\n",
      "Saving model (epoch =  423, loss = 1.1430)\n",
      "Saving model (epoch =  428, loss = 1.1408)\n",
      "Saving model (epoch =  432, loss = 1.1388)\n",
      "Saving model (epoch =  435, loss = 1.1362)\n",
      "Saving model (epoch =  441, loss = 1.1340)\n",
      "Saving model (epoch =  447, loss = 1.1310)\n",
      "Saving model (epoch =  448, loss = 1.1307)\n",
      "Saving model (epoch =  451, loss = 1.1286)\n",
      "Saving model (epoch =  459, loss = 1.1257)\n",
      "Saving model (epoch =  463, loss = 1.1235)\n",
      "Saving model (epoch =  468, loss = 1.1204)\n",
      "Saving model (epoch =  477, loss = 1.1178)\n",
      "Saving model (epoch =  478, loss = 1.1153)\n",
      "Saving model (epoch =  480, loss = 1.1145)\n",
      "Saving model (epoch =  489, loss = 1.1102)\n",
      "Saving model (epoch =  490, loss = 1.1095)\n",
      "Saving model (epoch =  491, loss = 1.1082)\n",
      "Saving model (epoch =  496, loss = 1.1062)\n",
      "Saving model (epoch =  500, loss = 1.1047)\n",
      "Saving model (epoch =  509, loss = 1.1043)\n",
      "Saving model (epoch =  515, loss = 1.1016)\n",
      "Saving model (epoch =  516, loss = 1.1009)\n",
      "Saving model (epoch =  517, loss = 1.0963)\n",
      "Saving model (epoch =  520, loss = 1.0945)\n",
      "Saving model (epoch =  525, loss = 1.0929)\n",
      "Saving model (epoch =  533, loss = 1.0882)\n",
      "Saving model (epoch =  536, loss = 1.0870)\n",
      "Saving model (epoch =  541, loss = 1.0850)\n",
      "Saving model (epoch =  545, loss = 1.0832)\n",
      "Saving model (epoch =  547, loss = 1.0824)\n",
      "Saving model (epoch =  552, loss = 1.0796)\n",
      "Saving model (epoch =  556, loss = 1.0783)\n",
      "Saving model (epoch =  559, loss = 1.0766)\n",
      "Saving model (epoch =  562, loss = 1.0747)\n",
      "Saving model (epoch =  579, loss = 1.0711)\n",
      "Saving model (epoch =  580, loss = 1.0671)\n",
      "Saving model (epoch =  587, loss = 1.0650)\n",
      "Saving model (epoch =  589, loss = 1.0632)\n",
      "Saving model (epoch =  596, loss = 1.0617)\n",
      "Saving model (epoch =  598, loss = 1.0595)\n",
      "Saving model (epoch =  604, loss = 1.0584)\n",
      "Saving model (epoch =  610, loss = 1.0555)\n",
      "Saving model (epoch =  614, loss = 1.0538)\n",
      "Saving model (epoch =  616, loss = 1.0529)\n",
      "Saving model (epoch =  618, loss = 1.0521)\n",
      "Saving model (epoch =  620, loss = 1.0508)\n",
      "Saving model (epoch =  624, loss = 1.0502)\n",
      "Saving model (epoch =  629, loss = 1.0482)\n",
      "Saving model (epoch =  630, loss = 1.0475)\n",
      "Saving model (epoch =  633, loss = 1.0459)\n",
      "Saving model (epoch =  636, loss = 1.0447)\n",
      "Saving model (epoch =  641, loss = 1.0434)\n",
      "Saving model (epoch =  650, loss = 1.0419)\n",
      "Saving model (epoch =  654, loss = 1.0389)\n",
      "Saving model (epoch =  664, loss = 1.0373)\n",
      "Saving model (epoch =  667, loss = 1.0347)\n",
      "Saving model (epoch =  669, loss = 1.0338)\n",
      "Saving model (epoch =  674, loss = 1.0301)\n",
      "Saving model (epoch =  684, loss = 1.0279)\n",
      "Saving model (epoch =  689, loss = 1.0271)\n",
      "Saving model (epoch =  693, loss = 1.0240)\n",
      "Saving model (epoch =  699, loss = 1.0215)\n",
      "Saving model (epoch =  705, loss = 1.0205)\n",
      "Saving model (epoch =  707, loss = 1.0195)\n",
      "Saving model (epoch =  710, loss = 1.0177)\n",
      "Saving model (epoch =  720, loss = 1.0153)\n",
      "Saving model (epoch =  723, loss = 1.0151)\n",
      "Saving model (epoch =  733, loss = 1.0130)\n",
      "Saving model (epoch =  734, loss = 1.0099)\n",
      "Saving model (epoch =  739, loss = 1.0089)\n",
      "Saving model (epoch =  740, loss = 1.0073)\n",
      "Saving model (epoch =  750, loss = 1.0049)\n",
      "Saving model (epoch =  758, loss = 1.0026)\n",
      "Saving model (epoch =  767, loss = 1.0010)\n",
      "Saving model (epoch =  774, loss = 0.9970)\n",
      "Saving model (epoch =  781, loss = 0.9969)\n",
      "Saving model (epoch =  782, loss = 0.9948)\n",
      "Saving model (epoch =  795, loss = 0.9907)\n",
      "Saving model (epoch =  810, loss = 0.9876)\n",
      "Saving model (epoch =  819, loss = 0.9862)\n",
      "Saving model (epoch =  828, loss = 0.9858)\n",
      "Saving model (epoch =  830, loss = 0.9858)\n",
      "Saving model (epoch =  832, loss = 0.9816)\n",
      "Saving model (epoch =  833, loss = 0.9810)\n",
      "Saving model (epoch =  850, loss = 0.9804)\n",
      "Saving model (epoch =  858, loss = 0.9759)\n",
      "Saving model (epoch =  865, loss = 0.9759)\n",
      "Saving model (epoch =  867, loss = 0.9716)\n",
      "Saving model (epoch =  877, loss = 0.9715)\n",
      "Saving model (epoch =  879, loss = 0.9704)\n",
      "Saving model (epoch =  883, loss = 0.9704)\n",
      "Saving model (epoch =  899, loss = 0.9649)\n",
      "Saving model (epoch =  911, loss = 0.9626)\n",
      "Saving model (epoch =  925, loss = 0.9606)\n",
      "Saving model (epoch =  933, loss = 0.9591)\n",
      "Saving model (epoch =  936, loss = 0.9587)\n",
      "Saving model (epoch =  941, loss = 0.9581)\n",
      "Saving model (epoch =  943, loss = 0.9565)\n",
      "Saving model (epoch =  947, loss = 0.9555)\n",
      "Saving model (epoch =  952, loss = 0.9548)\n",
      "Saving model (epoch =  961, loss = 0.9527)\n",
      "Saving model (epoch =  971, loss = 0.9510)\n",
      "Saving model (epoch =  978, loss = 0.9501)\n",
      "Saving model (epoch =  979, loss = 0.9496)\n",
      "Saving model (epoch =  984, loss = 0.9495)\n",
      "Saving model (epoch =  986, loss = 0.9487)\n",
      "Saving model (epoch =  989, loss = 0.9484)\n",
      "Saving model (epoch =  990, loss = 0.9478)\n",
      "Saving model (epoch =  996, loss = 0.9466)\n",
      "Saving model (epoch =  998, loss = 0.9463)\n",
      "Saving model (epoch = 1003, loss = 0.9461)\n",
      "Saving model (epoch = 1004, loss = 0.9457)\n",
      "Saving model (epoch = 1007, loss = 0.9429)\n",
      "Saving model (epoch = 1017, loss = 0.9429)\n",
      "Saving model (epoch = 1021, loss = 0.9422)\n",
      "Saving model (epoch = 1035, loss = 0.9390)\n",
      "Saving model (epoch = 1050, loss = 0.9367)\n",
      "Saving model (epoch = 1060, loss = 0.9342)\n",
      "Saving model (epoch = 1067, loss = 0.9329)\n",
      "Saving model (epoch = 1096, loss = 0.9315)\n",
      "Saving model (epoch = 1099, loss = 0.9313)\n",
      "Saving model (epoch = 1102, loss = 0.9303)\n",
      "Saving model (epoch = 1116, loss = 0.9272)\n",
      "Saving model (epoch = 1128, loss = 0.9263)\n",
      "Saving model (epoch = 1135, loss = 0.9244)\n",
      "Saving model (epoch = 1150, loss = 0.9229)\n",
      "Saving model (epoch = 1179, loss = 0.9202)\n",
      "Saving model (epoch = 1187, loss = 0.9197)\n",
      "Saving model (epoch = 1198, loss = 0.9194)\n",
      "Saving model (epoch = 1201, loss = 0.9191)\n",
      "Saving model (epoch = 1209, loss = 0.9181)\n",
      "Saving model (epoch = 1220, loss = 0.9165)\n",
      "Saving model (epoch = 1232, loss = 0.9145)\n",
      "Saving model (epoch = 1241, loss = 0.9136)\n",
      "Saving model (epoch = 1256, loss = 0.9135)\n",
      "Saving model (epoch = 1257, loss = 0.9119)\n",
      "Saving model (epoch = 1270, loss = 0.9111)\n",
      "Saving model (epoch = 1273, loss = 0.9110)\n",
      "Saving model (epoch = 1298, loss = 0.9102)\n",
      "Saving model (epoch = 1314, loss = 0.9090)\n",
      "Saving model (epoch = 1320, loss = 0.9087)\n",
      "Saving model (epoch = 1324, loss = 0.9081)\n",
      "Saving model (epoch = 1328, loss = 0.9078)\n",
      "Saving model (epoch = 1331, loss = 0.9071)\n",
      "Saving model (epoch = 1343, loss = 0.9069)\n",
      "Saving model (epoch = 1356, loss = 0.9054)\n",
      "Saving model (epoch = 1378, loss = 0.9041)\n",
      "Saving model (epoch = 1383, loss = 0.9039)\n",
      "Saving model (epoch = 1405, loss = 0.9032)\n",
      "Saving model (epoch = 1413, loss = 0.9029)\n",
      "Saving model (epoch = 1414, loss = 0.9029)\n",
      "Saving model (epoch = 1438, loss = 0.9010)\n",
      "Saving model (epoch = 1450, loss = 0.9010)\n",
      "Saving model (epoch = 1456, loss = 0.8994)\n",
      "Saving model (epoch = 1491, loss = 0.8986)\n",
      "Saving model (epoch = 1511, loss = 0.8983)\n",
      "Saving model (epoch = 1523, loss = 0.8981)\n",
      "Saving model (epoch = 1534, loss = 0.8968)\n",
      "Saving model (epoch = 1558, loss = 0.8962)\n",
      "Saving model (epoch = 1565, loss = 0.8959)\n",
      "Saving model (epoch = 1602, loss = 0.8950)\n",
      "Saving model (epoch = 1627, loss = 0.8950)\n",
      "Saving model (epoch = 1648, loss = 0.8942)\n",
      "Saving model (epoch = 1652, loss = 0.8940)\n",
      "Saving model (epoch = 1662, loss = 0.8938)\n",
      "Saving model (epoch = 1683, loss = 0.8924)\n",
      "Saving model (epoch = 1706, loss = 0.8924)\n",
      "Saving model (epoch = 1791, loss = 0.8916)\n",
      "Saving model (epoch = 1810, loss = 0.8916)\n",
      "Saving model (epoch = 1824, loss = 0.8915)\n",
      "Saving model (epoch = 1838, loss = 0.8911)\n",
      "Saving model (epoch = 1851, loss = 0.8900)\n",
      "Saving model (epoch = 1852, loss = 0.8899)\n",
      "Saving model (epoch = 1894, loss = 0.8898)\n",
      "Saving model (epoch = 1903, loss = 0.8888)\n",
      "Saving model (epoch = 1968, loss = 0.8888)\n",
      "Saving model (epoch = 1990, loss = 0.8879)\n",
      "Saving model (epoch = 2094, loss = 0.8874)\n",
      "Saving model (epoch = 2188, loss = 0.8873)\n",
      "Saving model (epoch = 2291, loss = 0.8870)\n",
      "Saving model (epoch = 2307, loss = 0.8867)\n",
      "Saving model (epoch = 2371, loss = 0.8865)\n",
      "Saving model (epoch = 2387, loss = 0.8865)\n",
      "Saving model (epoch = 2411, loss = 0.8859)\n",
      "Saving model (epoch = 2584, loss = 0.8854)\n",
      "Saving model (epoch = 2720, loss = 0.8850)\n",
      "Finished training after 2921 epochs\n"
     ]
    }
   ],
   "source": [
    "model_loss, model_loss_record = train(tr_set, dv_set, model, config, device)"
   ]
  },
  {
   "cell_type": "code",
   "execution_count": 120,
   "metadata": {
    "colab": {
     "base_uri": "https://localhost:8080/",
     "height": 295
    },
    "id": "hsNO9nnXQBvP",
    "outputId": "1626def6-94c7-4a87-9447-d939f827c8eb"
   },
   "outputs": [
    {
     "data": {
      "image/png": "[encoded data removed]",
      "text/plain": [
       "<Figure size 600x400 with 1 Axes>"
      ]
     },
     "metadata": {},
     "output_type": "display_data"
    }
   ],
   "source": [
    "plot_learning_curve(model_loss_record, title='deep model')"
   ]
  },
  {
   "cell_type": "code",
   "execution_count": 121,
   "metadata": {
    "colab": {
     "base_uri": "https://localhost:8080/",
     "height": 350
    },
    "id": "3iZTVn5WQFpX",
    "outputId": "a2d5e118-559d-45c6-b644-6792af54663d"
   },
   "outputs": [
    {
     "data": {
      "image/png": "[encoded data removed]",
      "text/plain": [
       "<Figure size 500x500 with 1 Axes>"
      ]
     },
     "metadata": {},
     "output_type": "display_data"
    }
   ],
   "source": [
    "del model\n",
    "model = NeuralNet(tr_set.dataset.dim).to(device)\n",
    "ckpt = torch.load(config['save_path'], map_location='cpu')  # Load your best model\n",
    "model.load_state_dict(ckpt)\n",
    "plot_pred(dv_set, model, device)  # Show prediction on the validation set"
   ]
  },
  {
   "cell_type": "markdown",
   "metadata": {
    "id": "aQikz3IPiyPf"
   },
   "source": [
    "# **Testing**\n",
    "The predictions of your model on testing set will be stored at `pred.csv`."
   ]
  },
  {
   "cell_type": "code",
   "execution_count": 122,
   "metadata": {
    "colab": {
     "base_uri": "https://localhost:8080/"
    },
    "id": "O8cTuQjQQOon",
    "outputId": "6bc5de07-4c5a-4e87-9ae3-d09f539c5f2c"
   },
   "outputs": [
    {
     "name": "stdout",
     "output_type": "stream",
     "text": [
      "Saving results to pred_20240420_213231.csv\n"
     ]
    }
   ],
   "source": [
    "def save_pred(preds, file):\n",
    "    ''' Save predictions to specified file '''\n",
    "    print('Saving results to {}'.format(file))\n",
    "    with open(file, 'w') as fp:\n",
    "        writer = csv.writer(fp)\n",
    "        writer.writerow(['id', 'tested_positive'])\n",
    "        for i, p in enumerate(preds):\n",
    "            writer.writerow([i, p])\n",
    "\n",
    "preds = test(tt_set, model, device)  # predict COVID-19 cases with your model\n",
    "\n",
    "#create file name\n",
    "import datetime as dt\n",
    "now = dt.datetime.now().strftime(\"%Y%m%d_%H%M%S\")\n",
    "filename = 'pred_'+now+'.csv'\n",
    "save_pred(preds, filename)         # save prediction file to pred.csv"
   ]
  },
  {
   "cell_type": "markdown",
   "metadata": {
    "id": "nfrVxqJanGpE"
   },
   "source": [
    "# **Hints**\n",
    "\n",
    "## **Simple Baseline**\n",
    "* Run sample code\n",
    "\n",
    "## **Medium Baseline**\n",
    "* Feature selection: 40 states + 2 `tested_positive` (`TODO` in dataset)\n",
    "\n",
    "## **Strong Baseline**\n",
    "* Feature selection (what other features are useful?)\n",
    "* DNN architecture (layers? dimension? activation function?)\n",
    "* Training (mini-batch? optimizer? learning rate?)\n",
    "* L2 regularization\n",
    "* There are some mistakes in the sample code, can you find them?"
   ]
  },
  {
   "cell_type": "markdown",
   "metadata": {
    "id": "9tmCwXgpot3t"
   },
   "source": [
    "# **Reference**\n",
    "This code is completely written by Heng-Jui Chang @ NTUEE.  \n",
    "Copying or reusing this code is required to specify the original author.\n",
    "\n",
    "E.g.  \n",
    "Source: Heng-Jui Chang @ NTUEE (https://github.com/ga642381/ML2021-Spring/blob/main/HW01/HW01.ipynb)\n"
   ]
  }
 ],
 "metadata": {
  "accelerator": "GPU",
  "colab": {
   "name": "ML2021Spring - HW1.ipynb",
   "provenance": [],
   "toc_visible": true
  },
  "kernelspec": {
   "display_name": "Python 3 (ipykernel)",
   "language": "python",
   "name": "python3"
  },
  "language_info": {
   "codemirror_mode": {
    "name": "ipython",
    "version": 3
   },
   "file_extension": ".py",
   "mimetype": "text/x-python",
   "name": "python",
   "nbconvert_exporter": "python",
   "pygments_lexer": "ipython3",
   "version": "3.9.16"
  }
 },
 "nbformat": 4,
 "nbformat_minor": 1
}
