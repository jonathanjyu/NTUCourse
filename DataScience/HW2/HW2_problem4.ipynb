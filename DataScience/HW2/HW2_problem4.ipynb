{
 "cells": [
  {
   "cell_type": "code",
   "execution_count": 1,
   "id": "694779d2",
   "metadata": {},
   "outputs": [],
   "source": [
    "import math\n",
    "import numpy as np"
   ]
  },
  {
   "cell_type": "code",
   "execution_count": 2,
   "id": "a788daad",
   "metadata": {},
   "outputs": [],
   "source": [
    "#samples for class1\n",
    "X1 = np.array([[5,3],[3,5],[3,4],[4,5],[4,7],[5,6]])\n",
    "#samples for class2\n",
    "X2 = np.array([[9,10],[7,7],[8,5],[8,8],[7,2],[10,8]])"
   ]
  },
  {
   "cell_type": "code",
   "execution_count": 3,
   "id": "dbe12d69",
   "metadata": {},
   "outputs": [],
   "source": [
    "u1 = X1.mean(axis = 0)\n",
    "u2 = X2.mean(axis = 0)"
   ]
  },
  {
   "cell_type": "code",
   "execution_count": 38,
   "id": "d7c0c704",
   "metadata": {},
   "outputs": [],
   "source": [
    "def cals(X,u):\n",
    "    return ((X-u).T.dot(X-u))/(len(X)-1)"
   ]
  },
  {
   "cell_type": "code",
   "execution_count": 39,
   "id": "83fec1c1",
   "metadata": {},
   "outputs": [],
   "source": [
    "S1 = cals(X1,u1)"
   ]
  },
  {
   "cell_type": "code",
   "execution_count": 41,
   "id": "549066bc",
   "metadata": {},
   "outputs": [],
   "source": [
    "S2 = cals(X2,u2)"
   ]
  },
  {
   "cell_type": "code",
   "execution_count": 42,
   "id": "56d156ef",
   "metadata": {},
   "outputs": [
    {
     "data": {
      "text/plain": [
       "(array([[0.8, 0. ],\n",
       "        [0. , 2. ]]),\n",
       " array([[1.36666667, 2.06666667],\n",
       "        [2.06666667, 7.86666667]]))"
      ]
     },
     "execution_count": 42,
     "metadata": {},
     "output_type": "execute_result"
    }
   ],
   "source": [
    "S1,S2"
   ]
  },
  {
   "cell_type": "code",
   "execution_count": 43,
   "id": "86cf8545",
   "metadata": {},
   "outputs": [],
   "source": [
    "Sw = S1+S2"
   ]
  },
  {
   "cell_type": "code",
   "execution_count": 44,
   "id": "ba0dd299",
   "metadata": {},
   "outputs": [
    {
     "data": {
      "text/plain": [
       "array([[2.16666667, 2.06666667],\n",
       "       [2.06666667, 9.86666667]])"
      ]
     },
     "execution_count": 44,
     "metadata": {},
     "output_type": "execute_result"
    }
   ],
   "source": [
    "Sw"
   ]
  },
  {
   "cell_type": "code",
   "execution_count": 74,
   "id": "ac714cfa",
   "metadata": {},
   "outputs": [],
   "source": [
    "Sb = (u1-u2).reshape(2,1).dot((u1-u2).reshape(1,2))"
   ]
  },
  {
   "cell_type": "code",
   "execution_count": 75,
   "id": "9f58b392",
   "metadata": {},
   "outputs": [
    {
     "data": {
      "text/plain": [
       "array([[17.36111111,  6.94444444],\n",
       "       [ 6.94444444,  2.77777778]])"
      ]
     },
     "execution_count": 75,
     "metadata": {},
     "output_type": "execute_result"
    }
   ],
   "source": [
    "Sb"
   ]
  },
  {
   "cell_type": "code",
   "execution_count": 78,
   "id": "42900488",
   "metadata": {},
   "outputs": [
    {
     "data": {
      "text/plain": [
       "array([[ 9.1744609 ,  3.66978436],\n",
       "       [-1.21784879, -0.48713952]])"
      ]
     },
     "execution_count": 78,
     "metadata": {},
     "output_type": "execute_result"
    }
   ],
   "source": [
    "np.linalg.inv(Sw).dot(Sb)"
   ]
  },
  {
   "cell_type": "code",
   "execution_count": 79,
   "id": "5ce5ece7",
   "metadata": {},
   "outputs": [
    {
     "data": {
      "text/plain": [
       "(array([8.68732138e+00, 5.55111512e-17]),\n",
       " array([[ 0.99130435, -0.37139068],\n",
       "        [-0.13158907,  0.92847669]]))"
      ]
     },
     "execution_count": 79,
     "metadata": {},
     "output_type": "execute_result"
    }
   ],
   "source": [
    "np.linalg.eig(np.linalg.inv(Sw).dot(Sb))"
   ]
  }
 ],
 "metadata": {
  "kernelspec": {
   "display_name": "Python 3 (ipykernel)",
   "language": "python",
   "name": "python3"
  },
  "language_info": {
   "codemirror_mode": {
    "name": "ipython",
    "version": 3
   },
   "file_extension": ".py",
   "mimetype": "text/x-python",
   "name": "python",
   "nbconvert_exporter": "python",
   "pygments_lexer": "ipython3",
   "version": "3.8.11"
  }
 },
 "nbformat": 4,
 "nbformat_minor": 5
}
